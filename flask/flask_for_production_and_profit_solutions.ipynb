{
 "cells": [
  {
   "cell_type": "markdown",
   "metadata": {
    "slideshow": {
     "slide_type": "slide"
    }
   },
   "source": [
    "<img src=\"http://imgur.com/1ZcRyrc.png\" style=\"float: left; margin: 20px; height: 55px\">\n",
    "\n",
    "# Standing Up Models in Flask\n",
    "_Author: Kevin Coyle_"
   ]
  },
  {
   "cell_type": "markdown",
   "metadata": {
    "slideshow": {
     "slide_type": "slide"
    }
   },
   "source": [
    "### LEARNING OBJECTIVES\n",
    "*After this lesson, you will be able to:*\n",
    "- Pickle a Model\n",
    "- Create a common and extensible Flask directory structure\n",
    "- Display your model for outward consumption"
   ]
  },
  {
   "cell_type": "markdown",
   "metadata": {
    "slideshow": {
     "slide_type": "slide"
    }
   },
   "source": [
    "### What is Flask?"
   ]
  },
  {
   "cell_type": "markdown",
   "metadata": {
    "slideshow": {
     "slide_type": "subslide"
    }
   },
   "source": [
    "Flask is a micro web-framework"
   ]
  },
  {
   "cell_type": "markdown",
   "metadata": {
    "slideshow": {
     "slide_type": "subslide"
    }
   },
   "source": [
    "You may have heard of Django, Pelican, or Pyramid. All of these are frameworks:\n",
    "- Frameworks make accomplishing something (standing up web sites in this case) easier\n",
    "- Django is one of the more popular web frameworks, but it comes with \"batteries included\""
   ]
  },
  {
   "cell_type": "markdown",
   "metadata": {
    "slideshow": {
     "slide_type": "subslide"
    }
   },
   "source": [
    "Why learn Flask?\n",
    "- We are learning Flask because our end goal is to stand up an API, not build a functioning website (but you _could_ do that really easily with Flask)\n",
    "- When we stand up an API, our model can be _consumed_ by some other thing. This means that a web dev can hit our API and return results. "
   ]
  },
  {
   "cell_type": "markdown",
   "metadata": {
    "slideshow": {
     "slide_type": "subslide"
    }
   },
   "source": [
    "- Flask is lightweight\n",
    "- Flask has less \"bells and whistles than Django\"\n",
    "- Our purpose here is to make an API, not a super robust website (but you _could_ do that with Flask too!)"
   ]
  },
  {
   "cell_type": "markdown",
   "metadata": {
    "slideshow": {
     "slide_type": "subslide"
    }
   },
   "source": [
    "If we wanted to make a robust website, Django is a great option. Here, we want to make a really simple endpoint (aka an API) that serves predictions of our model. \n",
    "\n",
    "Django == Big Website Framework\n",
    "\n",
    "Flask == Quick, Lightweight Website Framework"
   ]
  },
  {
   "cell_type": "markdown",
   "metadata": {
    "slideshow": {
     "slide_type": "subslide"
    }
   },
   "source": [
    "As far as a company goes:\n",
    "- Their website can live on one server\n",
    "- Our API can live on another server\n",
    "\n",
    "The website \"calls\" our API, and we return the call with some predictions."
   ]
  },
  {
   "cell_type": "markdown",
   "metadata": {
    "slideshow": {
     "slide_type": "subslide"
    }
   },
   "source": [
    "This is known as the \"microservices model.\"\n",
    "\n",
    "You've actually already seen this if you've ever been on [Amazon.com](https://www.amazon.com) \n",
    "\n",
    "- Open up Amazon in Chrome. \n",
    "- Open the developer panel (option + command + c)\n",
    "- Navigate to the Network tab, then hit refresh\n",
    "- Click on anything that ends in .js and then click \"Headers\"\n",
    "- Notice the \"Remote Address\""
   ]
  },
  {
   "cell_type": "markdown",
   "metadata": {
    "slideshow": {
     "slide_type": "subslide"
    }
   },
   "source": [
    "Why are we using Flask over Django for model deployment?"
   ]
  },
  {
   "cell_type": "code",
   "execution_count": null,
   "metadata": {},
   "outputs": [],
   "source": []
  },
  {
   "cell_type": "markdown",
   "metadata": {
    "slideshow": {
     "slide_type": "slide"
    }
   },
   "source": [
    "\"Okay,\" you're saying, \"I'm convinced. Let's code.\"\n",
    "### What's Hello World in Flask?"
   ]
  },
  {
   "cell_type": "markdown",
   "metadata": {
    "slideshow": {
     "slide_type": "subslide"
    }
   },
   "source": [
    "Open up your favorite text editor. "
   ]
  },
  {
   "cell_type": "markdown",
   "metadata": {
    "slideshow": {
     "slide_type": "subslide"
    }
   },
   "source": [
    "```\n",
    "import flask \n",
    "app = flask.Flask(__name__)\n",
    "\n",
    "@app.route(\"/\")\n",
    "def hello():\n",
    "    return \"Hello World\"\n",
    "\n",
    "\n",
    "if __name__  == '__main__':\n",
    "    app.run(debug=True)\n",
    "```"
   ]
  },
  {
   "cell_type": "markdown",
   "metadata": {},
   "source": [
    "### Let's break the code down"
   ]
  },
  {
   "cell_type": "markdown",
   "metadata": {
    "slideshow": {
     "slide_type": "subslide"
    }
   },
   "source": [
    "```import flask \n",
    "app = flask.Flask(__name__)``` \n",
    "\n",
    "Here, we're instantiating Flask's main functionality in a variable called \"app.\" This is a super common pattern"
   ]
  },
  {
   "cell_type": "markdown",
   "metadata": {
    "slideshow": {
     "slide_type": "subslide"
    }
   },
   "source": [
    "``` @app.route(\"/\")```\n",
    "\n",
    "In the next line, we're wrapping a method built into `app` called `route`. That's what that fancy `@` sign is doing. This lets us create an _endpoint_."
   ]
  },
  {
   "cell_type": "markdown",
   "metadata": {
    "slideshow": {
     "slide_type": "subslide"
    }
   },
   "source": [
    "```def hello():\n",
    "    return \"Hello World\"```\n",
    "\n",
    "In the line after that, we're making our function. The `@` sign puts this function into our endpoint. "
   ]
  },
  {
   "cell_type": "markdown",
   "metadata": {
    "slideshow": {
     "slide_type": "subslide"
    }
   },
   "source": [
    "Think of it like this: \n",
    "\n",
    "1. We just used one function that was built out in Flask for us (`.route()`)to create our endpoint\n",
    "2. Inside of that function (or at that enpoint), we're saying: execute this code\n",
    "3. Our function just does one thing right now: return a string\n",
    "4. [More on decorators here](https://www.thecodeship.com/patterns/guide-to-python-function-decorators/)"
   ]
  },
  {
   "cell_type": "markdown",
   "metadata": {
    "slideshow": {
     "slide_type": "subslide"
    }
   },
   "source": [
    "```if __name__  == '__main__':\n",
    "    app.run(debug=True)\n",
    "```\n",
    "\n",
    "The last lines are a Python scripting thing. They're saying \"if the name of the python file is called... then do `this`!\n",
    "\n",
    "- Here, \"this\" is \"start the Flask app\"\n",
    "- [Here's a super lengthy, but fantastic Stack Post on what's going on](https://stackoverflow.com/a/419185)"
   ]
  },
  {
   "cell_type": "markdown",
   "metadata": {
    "slideshow": {
     "slide_type": "subslide"
    }
   },
   "source": [
    "Save this file as `hello_flask.py` in a folder called \"app\" inside of this folder"
   ]
  },
  {
   "cell_type": "markdown",
   "metadata": {
    "slideshow": {
     "slide_type": "subslide"
    }
   },
   "source": [
    "- Make a new folder called \"app\"\n",
    "- Inside that folder, save the script above to a file called `hello_flask.py`\n",
    "- Open terminal\n",
    "- type `python hello_flask.py` DON'T HIT ENTER YET"
   ]
  },
  {
   "cell_type": "markdown",
   "metadata": {
    "slideshow": {
     "slide_type": "subslide"
    }
   },
   "source": [
    "#### What do you think the outcome of running `python hello_flask.py` will be?"
   ]
  },
  {
   "cell_type": "code",
   "execution_count": null,
   "metadata": {},
   "outputs": [],
   "source": []
  },
  {
   "cell_type": "markdown",
   "metadata": {
    "slideshow": {
     "slide_type": "subslide"
    }
   },
   "source": [
    "- Go visit http://localhost:5000\n",
    "\n",
    "Note: Half of the world will think this a miracle and the other half doesn't code"
   ]
  },
  {
   "cell_type": "markdown",
   "metadata": {
    "slideshow": {
     "slide_type": "slide"
    }
   },
   "source": [
    "### Let's Pickle it!"
   ]
  },
  {
   "cell_type": "markdown",
   "metadata": {
    "slideshow": {
     "slide_type": "subslide"
    }
   },
   "source": [
    "Now let's try something a little more fancy. Let's put a model into this!"
   ]
  },
  {
   "cell_type": "markdown",
   "metadata": {
    "slideshow": {
     "slide_type": "subslide"
    }
   },
   "source": [
    "Okay before we combine models and flask, we need to learn how to save our models."
   ]
  },
  {
   "cell_type": "markdown",
   "metadata": {
    "slideshow": {
     "slide_type": "subslide"
    }
   },
   "source": [
    "Models can sometimes take a longggggggg time to train\n",
    "<img src = \"https://media.tenor.com/images/03f4b2a1cd223cdb3ba687e67e7ef4eb/tenor.gif\">"
   ]
  },
  {
   "cell_type": "markdown",
   "metadata": {
    "slideshow": {
     "slide_type": "subslide"
    }
   },
   "source": [
    "We wouldn't want a user to sit around, waiting for our awesome prediction while our model trains on data!"
   ]
  },
  {
   "cell_type": "markdown",
   "metadata": {
    "slideshow": {
     "slide_type": "subslide"
    }
   },
   "source": [
    "Way better to train a model, then save that, then we can just use that .predict() to predict, like magic genies! 🧞‍♂️"
   ]
  },
  {
   "cell_type": "markdown",
   "metadata": {
    "slideshow": {
     "slide_type": "subslide"
    }
   },
   "source": [
    "Let's import familiar friends and our new library, sci-kit learn (specifically, Linear Regression)"
   ]
  },
  {
   "cell_type": "code",
   "execution_count": 2,
   "metadata": {
    "slideshow": {
     "slide_type": "fragment"
    }
   },
   "outputs": [],
   "source": [
    "import numpy as np\n",
    "import pandas as pd\n",
    "from sklearn.linear_model import LinearRegression"
   ]
  },
  {
   "cell_type": "markdown",
   "metadata": {
    "slideshow": {
     "slide_type": "subslide"
    }
   },
   "source": [
    "Now, import data:"
   ]
  },
  {
   "cell_type": "code",
   "execution_count": 5,
   "metadata": {
    "slideshow": {
     "slide_type": "fragment"
    }
   },
   "outputs": [],
   "source": [
    "df = pd.read_csv('../data/sacramento_real_estate_transactions.csv')"
   ]
  },
  {
   "cell_type": "markdown",
   "metadata": {
    "slideshow": {
     "slide_type": "subslide"
    }
   },
   "source": [
    "Now, we'll create our X and our y (we're skipping EDA for right now)."
   ]
  },
  {
   "cell_type": "code",
   "execution_count": 6,
   "metadata": {
    "slideshow": {
     "slide_type": "fragment"
    }
   },
   "outputs": [],
   "source": [
    "features = ['beds', 'baths', 'sq__ft']\n",
    "X = df[features]\n",
    "y = df['price']"
   ]
  },
  {
   "cell_type": "markdown",
   "metadata": {
    "slideshow": {
     "slide_type": "subslide"
    }
   },
   "source": [
    "Then we'll instantiate our model"
   ]
  },
  {
   "cell_type": "code",
   "execution_count": 7,
   "metadata": {
    "slideshow": {
     "slide_type": "fragment"
    }
   },
   "outputs": [],
   "source": [
    "linreg = LinearRegression()"
   ]
  },
  {
   "cell_type": "markdown",
   "metadata": {
    "slideshow": {
     "slide_type": "subslide"
    }
   },
   "source": [
    "Then we fit our model on our X and our y"
   ]
  },
  {
   "cell_type": "code",
   "execution_count": 8,
   "metadata": {
    "slideshow": {
     "slide_type": "fragment"
    }
   },
   "outputs": [
    {
     "data": {
      "text/plain": [
       "LinearRegression(copy_X=True, fit_intercept=True, n_jobs=None,\n",
       "         normalize=False)"
      ]
     },
     "execution_count": 8,
     "metadata": {},
     "output_type": "execute_result"
    }
   ],
   "source": [
    "linreg.fit(X, y)"
   ]
  },
  {
   "cell_type": "markdown",
   "metadata": {
    "slideshow": {
     "slide_type": "subslide"
    }
   },
   "source": [
    "#### Can't wait in anticipation any longer for our model to train! So exciting\n",
    "<img src = \"https://thumbs.gfycat.com/ComplexFlawedGemsbuck-size_restricted.gif\">"
   ]
  },
  {
   "cell_type": "markdown",
   "metadata": {
    "slideshow": {
     "slide_type": "subslide"
    }
   },
   "source": [
    "Now score your model, on your X and y"
   ]
  },
  {
   "cell_type": "code",
   "execution_count": 9,
   "metadata": {
    "slideshow": {
     "slide_type": "fragment"
    }
   },
   "outputs": [
    {
     "data": {
      "text/plain": [
       "0.18203162472419276"
      ]
     },
     "execution_count": 9,
     "metadata": {},
     "output_type": "execute_result"
    }
   ],
   "source": [
    "linreg.score(X, y)"
   ]
  },
  {
   "cell_type": "markdown",
   "metadata": {
    "slideshow": {
     "slide_type": "subslide"
    }
   },
   "source": [
    "Okay great. We'll call it a day on training a model because the main point of this is to stand our model up."
   ]
  },
  {
   "cell_type": "markdown",
   "metadata": {
    "slideshow": {
     "slide_type": "subslide"
    }
   },
   "source": [
    "Import a library we haven't seen before: `pickle`"
   ]
  },
  {
   "cell_type": "code",
   "execution_count": 10,
   "metadata": {
    "slideshow": {
     "slide_type": "fragment"
    }
   },
   "outputs": [],
   "source": [
    "import pickle"
   ]
  },
  {
   "cell_type": "markdown",
   "metadata": {
    "slideshow": {
     "slide_type": "subslide"
    }
   },
   "source": [
    "A pickle is a serialized object store. You can think of them as really flexible ways to store anything. \n",
    "- We could store Pandas dataframes\n",
    "- We could store basic python types like lists\n",
    "- We could store functions (which would be really useful if we happen to run the some similar functions over and over again)\n",
    "- We could store our fitted model!\n",
    "\n",
    "Because everything in Python is an _object_"
   ]
  },
  {
   "cell_type": "markdown",
   "metadata": {
    "slideshow": {
     "slide_type": "subslide"
    }
   },
   "source": [
    "<img src = \"https://papermag-img.rbl.ms/simage/https%3A%2F%2Fassets.rbl.ms%2F2535071%2F980x.jpg/2000%2C2000/859V1%2BfKrLdfPR0v/img.jpg\" height=\"400\" width=\"400\" align=\"middle\">"
   ]
  },
  {
   "cell_type": "markdown",
   "metadata": {
    "slideshow": {
     "slide_type": "slide"
    }
   },
   "source": [
    "### Saving models as pickle files"
   ]
  },
  {
   "cell_type": "markdown",
   "metadata": {
    "slideshow": {
     "slide_type": "subslide"
    }
   },
   "source": [
    "Now that we've imported the pickle library, we're going to use `pickle.dump()` to _dump_ our model into a pickle file.\n",
    "\n",
    "We're going to use a _context manager_ to:\n",
    "1. Open up the file on our computer\n",
    "2. Dump the model into said file"
   ]
  },
  {
   "cell_type": "markdown",
   "metadata": {
    "slideshow": {
     "slide_type": "subslide"
    }
   },
   "source": [
    "```\n",
    "with open(\"./the/path/to/file/and/thefilenameofpickle.pkl\", \"wb\") as picklefile:\n",
    "    pickle.dump(fitted_model, picklefile)\n",
    "```"
   ]
  },
  {
   "cell_type": "markdown",
   "metadata": {
    "slideshow": {
     "slide_type": "subslide"
    }
   },
   "source": [
    "The first line saves all of our information into one variable that we're calling \"picklefile\":\n",
    "- The name and location on our computer where we want to save this pickle file.\n",
    "- Write bytesstream (write is lower level computer terminology for \"save this to the disk\")\n",
    "- The second line dumps our model (called an \"object\" because again, we can pickle any python object) into said picklefile variable\n",
    "- Context managers also technically \"close\" the file... but this happens under the hood. It's the little things like this that make using them is so fantastic."
   ]
  },
  {
   "cell_type": "markdown",
   "metadata": {
    "slideshow": {
     "slide_type": "subslide"
    }
   },
   "source": [
    "Dump your model into a `.pkl` file in your `app` folder"
   ]
  },
  {
   "cell_type": "code",
   "execution_count": 12,
   "metadata": {},
   "outputs": [
    {
     "name": "stdout",
     "output_type": "stream",
     "text": [
      "/Users/nicholasbeaudoin/Desktop/GA/DATR_601/Lessons/03-python-foundations/flask\r\n"
     ]
    }
   ],
   "source": [
    "!pwd"
   ]
  },
  {
   "cell_type": "markdown",
   "metadata": {},
   "source": [
    "**MAKE SURE STUDENTS ARE STORING THIS IN THE CORRECT LOCATION!!!**"
   ]
  },
  {
   "cell_type": "code",
   "execution_count": 25,
   "metadata": {
    "slideshow": {
     "slide_type": "fragment"
    }
   },
   "outputs": [],
   "source": [
    "with open(\"/Users/nicholasbeaudoin/Desktop/GA/DATR_601/Lessons/03-python-foundations/app/linreg.pkl\", \"wb\") as pickle_file:\n",
    "    pickle.dump(linreg, pickle_file)"
   ]
  },
  {
   "cell_type": "markdown",
   "metadata": {
    "slideshow": {
     "slide_type": "slide"
    }
   },
   "source": [
    "### Combining our Powers!"
   ]
  },
  {
   "cell_type": "markdown",
   "metadata": {
    "slideshow": {
     "slide_type": "subslide"
    }
   },
   "source": [
    "Open your text editor again and let's copy that code into a new Python file. "
   ]
  },
  {
   "cell_type": "markdown",
   "metadata": {
    "slideshow": {
     "slide_type": "subslide"
    }
   },
   "source": [
    "That \"hello world\" stuff is probably getting boring. Name your Python file something snazzy."
   ]
  },
  {
   "cell_type": "markdown",
   "metadata": {
    "slideshow": {
     "slide_type": "subslide"
    }
   },
   "source": [
    "Now, there's a form that's been created for you already. Our focus in this class isn't to learn HTML, it's to model and then stand those models up!\n",
    "\n",
    "Move \"page.html\" into your app folder "
   ]
  },
  {
   "cell_type": "markdown",
   "metadata": {
    "slideshow": {
     "slide_type": "subslide"
    }
   },
   "source": [
    "We're going to add in our model. Also, since we're using SkLearn functionality, we need SKLearn, as well as Numpy to make arrays\n",
    "\n",
    "\n",
    "```\n",
    "import numpy as np\n",
    "import pickle\n",
    "\n",
    "from sklearn.linear_model import LinearRegression\n",
    "\n",
    "with open('./housing_prediction.pkl', 'rb') as picklefile:\n",
    "    PREDICTOR = pickle.load(picklefile)\n",
    "```\n",
    "\n",
    "Add a line to import pickle, then we can `pickle.load()` our way to glory."
   ]
  },
  {
   "cell_type": "markdown",
   "metadata": {
    "slideshow": {
     "slide_type": "subslide"
    }
   },
   "source": [
    "#### Why are we loading our pickle file in? Couldn't we just train a model? "
   ]
  },
  {
   "cell_type": "markdown",
   "metadata": {},
   "source": [
    "We don't have to train the model over and over again. It is also computationally less expensive to load it."
   ]
  },
  {
   "cell_type": "markdown",
   "metadata": {
    "slideshow": {
     "slide_type": "subslide"
    }
   },
   "source": [
    "```\n",
    "\n",
    "@app.route('/page')\n",
    "def page():\n",
    "   with open(\"page.html\", 'r') as viz_file:\n",
    "       return viz_file.read()\n",
    "```\n",
    "\n",
    "Then we're going to have Flask read in our form, and display that form as a special page\n",
    "\n",
    "This function returns our HTML page!\n",
    "\n",
    "p.s. note that we're just reading in with an \"r\" because this isn't a bytestream"
   ]
  },
  {
   "cell_type": "markdown",
   "metadata": {
    "slideshow": {
     "slide_type": "subslide"
    }
   },
   "source": [
    "```\n",
    "@app.route('/result', methods=['POST', 'GET'])\n",
    "def result():\n",
    "\n",
    "    if flask.request.method == 'POST':\n",
    "        \n",
    "        # this line says \"if a POST happens: then obtain the inputs from the form\"\n",
    "        inputs = flask.request.form\n",
    "        \n",
    "        #once we have the inputs, we can use their variable names (defined in the HTML) as our Python Variables\n",
    "        beds = inputs['beds'][0]\n",
    "        baths = inputs['baths'][0]\n",
    "        sq_ft = inputs['sq_ft'][0]\n",
    "        \n",
    "        #then, we can create a numpy array of type float. Explicitly casting it as a float \n",
    "        #ensures that we get the correct datatype (iow: makes certain that we have numbers!)\n",
    "        item = np.array([[beds, baths, sq_ft]]).astype(float)\n",
    "        \n",
    "        #then we can make a prediction, given some new data\n",
    "        score = PREDICTOR.predict(item)\n",
    "        \n",
    "        #since .predict returns a numpy array, we need to grab \"index 0\" \n",
    "        # we then use the built in python \"round\" function to round our number to the hundreds place\n",
    "        score = round(score[0], 2)\n",
    "        \n",
    "        #then we save this score as a Python dictionary\n",
    "        results = {\"This house's price is\": \"${}\".format(score)}\n",
    "        \n",
    "        #finally, the function turns the dictionary into a JSON (since they're so close in syntax!)\n",
    "        #we want to turn our results into a JSON, because Web Developers can use handy key/value pairs \n",
    "        # in JavaScript!\n",
    "        return flask.jsonify(results)\n",
    "\n",
    "```\n",
    "\n",
    "Then when a user hits the \"submit\" button, we GET our variables, and then we we're going to run our predictions, by POSTing the results!"
   ]
  },
  {
   "cell_type": "markdown",
   "metadata": {
    "slideshow": {
     "slide_type": "subslide"
    }
   },
   "source": [
    "```\n",
    "@app.route('/result', methods=['POST', 'GET'])\n",
    "def result():\n",
    "\n",
    "    if flask.request.method == 'POST':\n",
    "\n",
    "        inputs = flask.request.form\n",
    "\n",
    "        beds = inputs['beds'][0]\n",
    "        baths = inputs['baths'][0]\n",
    "        sq_ft = inputs['sq_ft'][0]\n",
    "        item = np.array([[beds, baths, sq_ft]]).astype(float)\n",
    "        score = PREDICTOR.predict(item)\n",
    "        score = round(score[0], 2)\n",
    "        results = {\"This house's price is\": \"${}\".format(score)}\n",
    "        return flask.jsonify(results)\n",
    "```"
   ]
  },
  {
   "cell_type": "markdown",
   "metadata": {
    "slideshow": {
     "slide_type": "subslide"
    }
   },
   "source": [
    "We display these results in JSON format. JSON is easily consumed by any web service, and since JavaScript is one of the most popular languages for web dev, JSON is a great format."
   ]
  },
  {
   "cell_type": "markdown",
   "metadata": {
    "slideshow": {
     "slide_type": "subslide"
    }
   },
   "source": [
    "### Congrats! You just stood up a model! Now we're going to go to AWS so we can show off our work!"
   ]
  },
  {
   "cell_type": "markdown",
   "metadata": {
    "slideshow": {
     "slide_type": "slide"
    }
   },
   "source": [
    "### Lesson Recap:"
   ]
  },
  {
   "cell_type": "markdown",
   "metadata": {
    "slideshow": {
     "slide_type": "subslide"
    }
   },
   "source": [
    "#### What is Flask?"
   ]
  },
  {
   "cell_type": "code",
   "execution_count": null,
   "metadata": {},
   "outputs": [],
   "source": []
  },
  {
   "cell_type": "markdown",
   "metadata": {
    "slideshow": {
     "slide_type": "subslide"
    }
   },
   "source": [
    "#### What is a pickle?"
   ]
  },
  {
   "cell_type": "code",
   "execution_count": null,
   "metadata": {},
   "outputs": [],
   "source": []
  },
  {
   "cell_type": "markdown",
   "metadata": {
    "slideshow": {
     "slide_type": "subslide"
    }
   },
   "source": [
    "#### Where is our \"website\" right now?"
   ]
  },
  {
   "cell_type": "code",
   "execution_count": null,
   "metadata": {},
   "outputs": [],
   "source": []
  },
  {
   "cell_type": "markdown",
   "metadata": {
    "slideshow": {
     "slide_type": "subslide"
    }
   },
   "source": [
    "#### Why did we display our results in JSON?"
   ]
  },
  {
   "cell_type": "code",
   "execution_count": null,
   "metadata": {},
   "outputs": [],
   "source": []
  },
  {
   "cell_type": "markdown",
   "metadata": {
    "slideshow": {
     "slide_type": "subslide"
    }
   },
   "source": [
    "#### What does the `.predict()` do with our new data?"
   ]
  },
  {
   "cell_type": "code",
   "execution_count": null,
   "metadata": {},
   "outputs": [],
   "source": []
  },
  {
   "cell_type": "markdown",
   "metadata": {
    "slideshow": {
     "slide_type": "subslide"
    }
   },
   "source": [
    "#### Who can access our \"website\" when we have localhost?"
   ]
  },
  {
   "cell_type": "code",
   "execution_count": null,
   "metadata": {},
   "outputs": [],
   "source": []
  },
  {
   "cell_type": "markdown",
   "metadata": {
    "slideshow": {
     "slide_type": "subslide"
    }
   },
   "source": [
    "#### What is the standard port that Flask deploys on?"
   ]
  },
  {
   "cell_type": "code",
   "execution_count": null,
   "metadata": {},
   "outputs": [],
   "source": []
  }
 ],
 "metadata": {
  "kernelspec": {
   "display_name": "Python 3",
   "language": "python",
   "name": "python3"
  },
  "language_info": {
   "codemirror_mode": {
    "name": "ipython",
    "version": 3
   },
   "file_extension": ".py",
   "mimetype": "text/x-python",
   "name": "python",
   "nbconvert_exporter": "python",
   "pygments_lexer": "ipython3",
   "version": "3.7.3"
  }
 },
 "nbformat": 4,
 "nbformat_minor": 2
}
