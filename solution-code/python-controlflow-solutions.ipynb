{
 "cells": [
  {
   "cell_type": "markdown",
   "metadata": {},
   "source": [
    "<img src=\"http://imgur.com/1ZcRyrc.png\" style=\"float: left; margin: 20px; height: 55px\">\n",
    "\n",
    "# Introduction to Python: Part Two\n",
    "\n",
    "_Authors: Kiefer Katovich (San Francisco), Dave Yerrington (San Francisco), Joseph Nelson (Washington, D.C.), Sam Stack (Washington, D.C.)_\n",
    "\n",
    "---"
   ]
  },
  {
   "cell_type": "markdown",
   "metadata": {},
   "source": [
    "\n",
    "### Learning Objectives\n",
    " \n",
    "#### Part Two: Python Iterations, Control Flow, and Functions\n",
    "**After this lesson, you will be able to:**\n",
    "- Understand `Python` control flow and conditional programming.  \n",
    "- Implement `for` and `while` loops to iterate through data structures.\n",
    "- Apply `if… else` conditional statements.\n",
    "- Create functions to perform repetitive actions.\n",
    "- Demonstrate error handling using `try, except` statements.\n",
    "- Combine control flow and conditional statements to solve the classic \"FizzBuzz\" code challenge.\n",
    "- Use `Python` control flow and functions to help us parse, clean, edit, and analyze the Coffee Preferences data set.\n",
    "---"
   ]
  },
  {
   "cell_type": "markdown",
   "metadata": {},
   "source": [
    "### Lesson Guide\n",
    "\n",
    "#### [Part 2: Python Iterations, Control Flow, and Functions](#py_i)\n",
    "- [`if… else` Statements](#if_else_statements)\n",
    "- [Iterating With `for` Loops](#for_loops)\n",
    "- [FizzBuzz](#fizz_buzz)\n",
    "- [Functions](#functions)\n",
    "- [`while` Loops](#while_loops)\n",
    "- [Practice Control Flow on the Coffee Preference Data Set](#coffee_preference)\n",
    "- [Conclusion](#conclusion)\n",
    "----"
   ]
  },
  {
   "cell_type": "markdown",
   "metadata": {},
   "source": [
    "<a id='py_i'></a>\n",
    "## Part 2: Python Iterations, Control Flow, and Functions\n",
    "\n",
    "We've gone over how data can exist within the Python language. Now, let's look at the core ways of interacting with it.\n",
    "\n",
    "- `if… elif… else` statements.\n",
    "- `for` and `while` loops.\n",
    "- Error handling with `try` and `except`.\n",
    "- Functions.\n",
    "\n",
    "\n",
    "First, let's bring in one of the many available Python libraries to help us with some of the statements we'll be creating."
   ]
  },
  {
   "cell_type": "code",
   "execution_count": 1,
   "metadata": {},
   "outputs": [],
   "source": [
    "import numpy as np"
   ]
  },
  {
   "cell_type": "markdown",
   "metadata": {},
   "source": [
    "NumPy is one of the core data science libraries you will use. It already contains many functions for many useful mathematical operations, so we don't have to build them ourselves.\n",
    "\n",
    "All you _need_ to do to import a library is execute ``` import <library name>```. In our situation, we import NumPy and assign it to the value `np`, which allows us to use `np` as a shorthand.  \n",
    "\n",
    "_Why would we do this?_\n",
    "For convenience. In this case, `np` is a commonly used shorthand that will not cause confusion."
   ]
  },
  {
   "cell_type": "markdown",
   "metadata": {},
   "source": [
    "<a id='if_else_statements'></a>\n",
    "\n",
    "# `if… else` Statements\n",
    "\n",
    "---\n",
    "\n",
    "In Python, **indentation matters**! This is especially true when we look at the control structures in this lesson. In each case, a block of indented code is only sometimes run. There will always be a condition in the line preceding the indented block that determines whether the indented code is run or skipped.\n",
    "\n",
    "#### `if` Statement\n",
    "\n",
    "The simplest example of a control structure is the `if` statement."
   ]
  },
  {
   "cell_type": "code",
   "execution_count": 2,
   "metadata": {},
   "outputs": [
    {
     "name": "stdout",
     "output_type": "stream",
     "text": [
      "The integer 1 is equal to the integer 1.\n",
      "Is the next indented line run, too?\n"
     ]
    }
   ],
   "source": [
    "if 1 == 1:\n",
    "    print('The integer 1 is equal to the integer 1.')\n",
    "    print('Is the next indented line run, too?')"
   ]
  },
  {
   "cell_type": "code",
   "execution_count": 3,
   "metadata": {},
   "outputs": [
    {
     "name": "stdout",
     "output_type": "stream",
     "text": [
      "---\n",
      "These two lines are not indented, so they are always run next.\n"
     ]
    }
   ],
   "source": [
    "if 'one' == 'two':\n",
    "    print(\"The string 'one' is equal to the string 'two'.\")\n",
    "\n",
    "print('---')\n",
    "print('These two lines are not indented, so they are always run next.')"
   ]
  },
  {
   "cell_type": "code",
   "execution_count": 4,
   "metadata": {},
   "outputs": [
    {
     "name": "stdout",
     "output_type": "stream",
     "text": [
      "Good job\n"
     ]
    }
   ],
   "source": [
    "# if <expression>:\n",
    "if 1 == 1:\n",
    "    print('Good job')\n",
    "    # print the result"
   ]
  },
  {
   "cell_type": "markdown",
   "metadata": {},
   "source": [
    "Notice that, in Python, the line before every indented block must end with a colon (`:`). In fact, it turns out that the `if` statement has a very specific syntax.\n",
    "\n",
    "```if <expression>:\n",
    "    <one or more indented lines>```\n",
    "\n",
    "When the `if` statement is run, the expression is evaluated to `True` or `False` by applying the built-in `bool()` function to it. If the expression evaluates to `True`, the code block is run; otherwise, it is skipped.\n",
    "\n",
    "#### `if` ... `else`\n",
    "\n",
    "In many cases, you may want to run some code if the expression evaluates to `True` and some different code if it evaluates to `False`. This is done using `else`. Note how it is at the same indentation level as the `if` statement, followed by a colon, followed by a code block. Let's see it in action."
   ]
  },
  {
   "cell_type": "code",
   "execution_count": 5,
   "metadata": {},
   "outputs": [
    {
     "name": "stdout",
     "output_type": "stream",
     "text": [
      "50 >= 30.\n",
      "The else code block was run instead of the first block.\n",
      "---\n",
      "These two lines are not indented, so they are always run next.\n"
     ]
    }
   ],
   "source": [
    "if 50 < 30:\n",
    "    print(\"50 < 30.\")\n",
    "else:\n",
    "    print(\"50 >= 30.\")\n",
    "    print(\"The else code block was run instead of the first block.\")\n",
    "\n",
    "print('---')\n",
    "print('These two lines are not indented, so they are always run next.')"
   ]
  },
  {
   "cell_type": "markdown",
   "metadata": {},
   "source": [
    "#### `if` ... `elif` ... `else`\n",
    "\n",
    "Sometimes, you might want to run one specific code block out of several. For example, perhaps we provide the user with three choices and want something different to happen with each one.\n",
    "\n",
    "`elif` stands for `else if`. It belongs on a line between the initial `if` statement and an (optional) `else`. "
   ]
  },
  {
   "cell_type": "code",
   "execution_count": 6,
   "metadata": {},
   "outputs": [
    {
     "name": "stdout",
     "output_type": "stream",
     "text": [
      "Your health is average.\n",
      "Exercise and eat healthily!\n",
      "---\n",
      "These two lines are not indented, so they are always run next.\n"
     ]
    }
   ],
   "source": [
    "health = 55\n",
    "\n",
    "if health > 70:\n",
    "    print('You are in great health!')\n",
    "elif health > 40:\n",
    "    print('Your health is average.')\n",
    "    print('Exercise and eat healthily!')\n",
    "else:\n",
    "    print('Your health is low.')\n",
    "    print('Please see a doctor now.')\n",
    "\n",
    "print('---')\n",
    "print('These two lines are not indented, so they are always run next.')"
   ]
  },
  {
   "cell_type": "markdown",
   "metadata": {},
   "source": [
    "This code works by evaluating each condition in order. If a condition evaluates to `True`, the rest are skipped.\n",
    "\n",
    "**Let's walk through the code.** First, we let `health = 55`. We move to the next line at the same indentation level — the `if`. We evaluate `health > 70` to be `False`, so its code block is skipped. Next, the interpreter moves to the next line at the same outer indentation level, which happens to be the `elif`. It evaluates its expression, `health > 40`, to be `True`, so its code block is run. Now, because a code block was run, the rest of the `if` statement is skipped."
   ]
  },
  {
   "cell_type": "markdown",
   "metadata": {},
   "source": [
    "![](./assets/if-flow.png)"
   ]
  },
  {
   "cell_type": "markdown",
   "metadata": {},
   "source": [
    "### 1) Write an `if… else` statement to check whether or not the suitcase weighs more than 50 pounds.\n",
    "\n",
    "Print a message indicating whether or not the suitcase weighs more than 50 pounds."
   ]
  },
  {
   "cell_type": "code",
   "execution_count": 7,
   "metadata": {},
   "outputs": [
    {
     "name": "stdout",
     "output_type": "stream",
     "text": [
      "How many pounds does your suitcase weigh?65\n"
     ]
    }
   ],
   "source": [
    "weight = float(eval(input(\"How many pounds does your suitcase weigh?\")))"
   ]
  },
  {
   "cell_type": "code",
   "execution_count": 8,
   "metadata": {},
   "outputs": [
    {
     "name": "stdout",
     "output_type": "stream",
     "text": [
      "Suitcase is over 50 pounds.\n"
     ]
    }
   ],
   "source": [
    "if weight > 50:\n",
    "    print('Suitcase is over 50 pounds.')\n",
    "else:\n",
    "    print('Suitcase is under 50 pounds.')"
   ]
  },
  {
   "cell_type": "markdown",
   "metadata": {},
   "source": [
    "---\n",
    "\n",
    "### 2) Write an `if… else` statement for multiple conditions.\n",
    "\n",
    "Print out these recommendations based on the weather conditions:\n",
    "\n",
    "1) The temperature is higher than 60 degrees and it is raining: Bring an umbrella.\n",
    "2) The temperature is lower than or equal to 60 degrees and it is raining: Bring an umbrella and a jacket.\n",
    "3) The temperature is higher than 60 degrees and the sun is shining: Wear a T-shirt.\n",
    "4) The temperature is lower than or equal to 60 degrees and the sun is shining: Bring a jacket."
   ]
  },
  {
   "cell_type": "code",
   "execution_count": 9,
   "metadata": {},
   "outputs": [
    {
     "name": "stdout",
     "output_type": "stream",
     "text": [
      "What is the temperature? 65\n",
      "What is the weather (rain or shine)? rain\n"
     ]
    }
   ],
   "source": [
    "temperature = float(eval(input('What is the temperature? ')))\n",
    "weather = input('What is the weather (rain or shine)? ')"
   ]
  },
  {
   "cell_type": "code",
   "execution_count": 11,
   "metadata": {},
   "outputs": [
    {
     "name": "stdout",
     "output_type": "stream",
     "text": [
      "bring an umbrella\n"
     ]
    }
   ],
   "source": [
    "if temperature > 60:\n",
    "    if weather == 'rain':\n",
    "        print('bring an umbrella')\n",
    "    elif weather == 'shine':\n",
    "        print('wear a t-shirt')\n",
    "else:\n",
    "    if weather == 'rain':\n",
    "        print('bring an umbrella and a jacket')\n",
    "    else:\n",
    "        print('bring a jacket')"
   ]
  },
  {
   "cell_type": "markdown",
   "metadata": {},
   "source": [
    "---\n",
    "<a id='for_loops'></a>\n",
    "# `for` Loops\n",
    "\n",
    "\n",
    "One of the primary purposes of using a programming language is to automate repetitive tasks. One such means in Python is the `for` loop.\n",
    "\n",
    "The `for` loop allows you to perform a task repeatedly on every element within an object, such as every name in a list.\n",
    "\n",
    "\n",
    "Let's see how the pseudocode works:\n",
    "\n",
    "```python\n",
    "# For each individual object in the list\n",
    "    # perform task_A on said object.\n",
    "    # Once task_A has been completed, move to next object in the list.\n",
    "```\n",
    "\n",
    "Let's say we wanted to print each of the names in the list, as well as \"is Awesome!\""
   ]
  },
  {
   "cell_type": "code",
   "execution_count": 12,
   "metadata": {},
   "outputs": [
    {
     "name": "stdout",
     "output_type": "stream",
     "text": [
      "Alex Is Awesome!\n",
      "Brian Is Awesome!\n",
      "Catherine Is Awesome!\n"
     ]
    }
   ],
   "source": [
    "names = ['Alex', 'Brian', 'Catherine']\n",
    "\n",
    "for name in names:\n",
    "    print(name + ' Is Awesome!')"
   ]
  },
  {
   "cell_type": "markdown",
   "metadata": {},
   "source": [
    "This process of cycling through a list item by item is known as \"iteration.\" "
   ]
  },
  {
   "cell_type": "markdown",
   "metadata": {},
   "source": [
    "---\n",
    "\n",
    "### 3) Write a `for` loop that iterates from number 1 to number 15.\n",
    "\n",
    "On each iteration, print out the number.  \n"
   ]
  },
  {
   "cell_type": "code",
   "execution_count": 13,
   "metadata": {},
   "outputs": [
    {
     "name": "stdout",
     "output_type": "stream",
     "text": [
      "Iteration: 1\n",
      "Iteration: 2\n",
      "Iteration: 3\n",
      "Iteration: 4\n",
      "Iteration: 5\n",
      "Iteration: 6\n",
      "Iteration: 7\n",
      "Iteration: 8\n",
      "Iteration: 9\n",
      "Iteration: 10\n",
      "Iteration: 11\n",
      "Iteration: 12\n",
      "Iteration: 13\n",
      "Iteration: 14\n",
      "Iteration: 15\n"
     ]
    }
   ],
   "source": [
    "for i in range(1, 16):\n",
    "    print('Iteration: {}'.format(i))"
   ]
  },
  {
   "cell_type": "markdown",
   "metadata": {},
   "source": [
    "---\n",
    "\n",
    "### 4) Iterate from 1 to 15, printing whether the number is odd or even.\n",
    "\n",
    "Hint: The modulus operator, `%`, can be used to take the remainder. For example:\n",
    "\n",
    "```python\n",
    "9 % 5 == 4\n",
    "```\n",
    "\n",
    "Or, in other words, the remainder of dividing 9 by 5 is 4."
   ]
  },
  {
   "cell_type": "code",
   "execution_count": 14,
   "metadata": {},
   "outputs": [
    {
     "name": "stdout",
     "output_type": "stream",
     "text": [
      "1 is odd\n",
      "2 is even\n",
      "3 is odd\n",
      "4 is even\n",
      "5 is odd\n",
      "6 is even\n",
      "7 is odd\n",
      "8 is even\n",
      "9 is odd\n",
      "10 is even\n",
      "11 is odd\n",
      "12 is even\n",
      "13 is odd\n",
      "14 is even\n",
      "15 is odd\n"
     ]
    }
   ],
   "source": [
    "for i in range(1, 16):\n",
    "    if i % 2 == 0:\n",
    "        print('{} is even'.format(i))\n",
    "    else:\n",
    "        print('{} is odd'.format(i))"
   ]
  },
  {
   "cell_type": "markdown",
   "metadata": {},
   "source": [
    "---\n",
    "<a id='fizz_buzz'></a>\n",
    "### 5) Iterate from 1 to 30 using the following instructions:\n",
    "\n",
    "1) If a number is divisible by 3, print \"fizz.\"\n",
    "2) If a number is divisible by 5, print \"buzz.\" \n",
    "3) If a number is both divisible by 3 and by 5, print \"fizzbuzz.\"\n",
    "4) Otherwise, print just the number."
   ]
  },
  {
   "cell_type": "code",
   "execution_count": 15,
   "metadata": {},
   "outputs": [
    {
     "name": "stdout",
     "output_type": "stream",
     "text": [
      "1\n",
      "2\n",
      "fizz\n",
      "4\n",
      "buzz\n",
      "fizz\n",
      "7\n",
      "8\n",
      "fizz\n",
      "buzz\n",
      "11\n",
      "fizz\n",
      "13\n",
      "14\n",
      "fizzbuzz\n",
      "16\n",
      "17\n",
      "fizz\n",
      "19\n",
      "buzz\n",
      "fizz\n",
      "22\n",
      "23\n",
      "fizz\n",
      "buzz\n",
      "26\n",
      "fizz\n",
      "28\n",
      "29\n",
      "fizzbuzz\n"
     ]
    }
   ],
   "source": [
    "for i in range(1, 31):\n",
    "    if (i % 3 == 0) and (i % 5 == 0):\n",
    "        print('fizzbuzz')\n",
    "    elif (i % 3 == 0):\n",
    "        print('fizz')\n",
    "    elif (i % 5 == 0):\n",
    "        print('buzz')\n",
    "    else:\n",
    "        print(i)"
   ]
  },
  {
   "cell_type": "markdown",
   "metadata": {},
   "source": [
    "Remember this example. FizzBuzz is a common coding challenge. It is relatively easy to solve, but those who ask are always looking for more creative ways to solve or optimize it."
   ]
  },
  {
   "cell_type": "markdown",
   "metadata": {},
   "source": [
    "---\n",
    "\n",
    "### 6) Iterate through the following list of animals and print each one in all caps."
   ]
  },
  {
   "cell_type": "code",
   "execution_count": 16,
   "metadata": {},
   "outputs": [],
   "source": [
    "animals = ['duck', 'rat', 'boar', 'slug', 'mammoth', 'gazelle']"
   ]
  },
  {
   "cell_type": "code",
   "execution_count": 17,
   "metadata": {},
   "outputs": [
    {
     "name": "stdout",
     "output_type": "stream",
     "text": [
      "DUCK\n",
      "RAT\n",
      "BOAR\n",
      "SLUG\n",
      "MAMMOTH\n",
      "GAZELLE\n"
     ]
    }
   ],
   "source": [
    "for animal in animals:\n",
    "    print(animal.upper())"
   ]
  },
  {
   "cell_type": "markdown",
   "metadata": {},
   "source": [
    "---\n",
    "\n",
    "### 7) Iterate through the animals list. Capitalize the first letter and append the modified animals to a new list."
   ]
  },
  {
   "cell_type": "code",
   "execution_count": 18,
   "metadata": {},
   "outputs": [
    {
     "name": "stdout",
     "output_type": "stream",
     "text": [
      "['Duck', 'Rat', 'Boar', 'Slug', 'Mammoth', 'Gazelle']\n"
     ]
    }
   ],
   "source": [
    "cap_animals = []\n",
    "for animal in animals:\n",
    "    cap_animal = animal[0].upper() + animal[1:]\n",
    "    cap_animals.append(cap_animal)\n",
    "\n",
    "print(cap_animals)"
   ]
  },
  {
   "cell_type": "markdown",
   "metadata": {},
   "source": [
    "---\n",
    "\n",
    "### 8) Iterate through the animals. Print out the animal name and the number of vowels in the name.\n",
    "Hint: You may need to create a variable of vowels for comparison."
   ]
  },
  {
   "cell_type": "code",
   "execution_count": 19,
   "metadata": {},
   "outputs": [
    {
     "name": "stdout",
     "output_type": "stream",
     "text": [
      "duck 1\n",
      "rat 1\n",
      "boar 2\n",
      "slug 1\n",
      "mammoth 2\n",
      "gazelle 3\n"
     ]
    }
   ],
   "source": [
    "vowels = 'aeiou'\n",
    "for animal in animals:\n",
    "    vowel_count = 0\n",
    "    for character in animal:\n",
    "        if character in vowels:\n",
    "            vowel_count += 1\n",
    "    print('{} {}'.format(animal, vowel_count))"
   ]
  },
  {
   "cell_type": "markdown",
   "metadata": {},
   "source": [
    "---\n",
    "<a id='functions'></a>\n",
    "# `try` / `except`\n",
    "---\n",
    "\n",
    "Sometimes, code throws a runtime error. For example, division by zero or using a keyword as a variable name."
   ]
  },
  {
   "cell_type": "code",
   "execution_count": 20,
   "metadata": {},
   "outputs": [
    {
     "ename": "ZeroDivisionError",
     "evalue": "division by zero",
     "output_type": "error",
     "traceback": [
      "\u001b[0;31m---------------------------------------------------------------------------\u001b[0m",
      "\u001b[0;31mZeroDivisionError\u001b[0m                         Traceback (most recent call last)",
      "\u001b[0;32m<ipython-input-20-bc757c3fda29>\u001b[0m in \u001b[0;36m<module>\u001b[0;34m\u001b[0m\n\u001b[0;32m----> 1\u001b[0;31m \u001b[0;36m1\u001b[0m \u001b[0;34m/\u001b[0m \u001b[0;36m0\u001b[0m\u001b[0;34m\u001b[0m\u001b[0;34m\u001b[0m\u001b[0m\n\u001b[0m",
      "\u001b[0;31mZeroDivisionError\u001b[0m: division by zero"
     ]
    }
   ],
   "source": [
    "1 / 0"
   ]
  },
  {
   "cell_type": "code",
   "execution_count": 21,
   "metadata": {},
   "outputs": [
    {
     "ename": "TypeError",
     "evalue": "unsupported operand type(s) for -: 'str' and 'str'",
     "output_type": "error",
     "traceback": [
      "\u001b[0;31m---------------------------------------------------------------------------\u001b[0m",
      "\u001b[0;31mTypeError\u001b[0m                                 Traceback (most recent call last)",
      "\u001b[0;32m<ipython-input-21-2eca43ca5017>\u001b[0m in \u001b[0;36m<module>\u001b[0;34m\u001b[0m\n\u001b[0;32m----> 1\u001b[0;31m \u001b[0mprint\u001b[0m\u001b[0;34m(\u001b[0m\u001b[0;34m'a'\u001b[0m \u001b[0;34m-\u001b[0m \u001b[0;34m'b'\u001b[0m\u001b[0;34m)\u001b[0m\u001b[0;34m\u001b[0m\u001b[0;34m\u001b[0m\u001b[0m\n\u001b[0m",
      "\u001b[0;31mTypeError\u001b[0m: unsupported operand type(s) for -: 'str' and 'str'"
     ]
    }
   ],
   "source": [
    "print('a' - 'b')"
   ]
  },
  {
   "cell_type": "markdown",
   "metadata": {},
   "source": [
    "These errors are called **exceptions**. Exceptions are serious errors that are **thrown** when the computer cannot continue because the expression cannot be evaluated properly. For example:\n",
    "\n",
    "+ Using the addition operator to add a string and a non-string.\n",
    "+ Using an undefined name.\n",
    "+ Opening a file that does not exist."
   ]
  },
  {
   "cell_type": "markdown",
   "metadata": {},
   "source": [
    "Luckily, our program does not have to be this fragile. By wrapping a code block with `try`, we can \"catch\" exceptions. If an exception occurs, instead of exiting, the computer immediately executes the matching `except` block and continues the program."
   ]
  },
  {
   "cell_type": "code",
   "execution_count": 22,
   "metadata": {},
   "outputs": [
    {
     "name": "stdout",
     "output_type": "stream",
     "text": [
      "Divide by zero!\n",
      "Program keeps executing!\n"
     ]
    }
   ],
   "source": [
    "try:\n",
    "    1 / 0\n",
    "    print('not executed due to the exception')\n",
    "except:\n",
    "    print('Divide by zero!')\n",
    "\n",
    "print('Program keeps executing!')"
   ]
  },
  {
   "cell_type": "markdown",
   "metadata": {},
   "source": [
    "Sometimes, you might want to do nothing in the event of an exception. However, an indented code block is still required! So, you can use the keyword `pass`."
   ]
  },
  {
   "cell_type": "code",
   "execution_count": 23,
   "metadata": {
    "scrolled": true
   },
   "outputs": [
    {
     "name": "stdout",
     "output_type": "stream",
     "text": [
      "Program keeps executing!\n"
     ]
    }
   ],
   "source": [
    "try:\n",
    "    print('a' - 'b')\n",
    "except:\n",
    "    pass\n",
    "\n",
    "print('Program keeps executing!')"
   ]
  },
  {
   "cell_type": "markdown",
   "metadata": {},
   "source": [
    "We can also catch specific exceptions and use try/except in more ways, but we'll keep it brief for this introduction!"
   ]
  },
  {
   "cell_type": "markdown",
   "metadata": {},
   "source": [
    "---\n",
    "<a id='functions'></a>\n",
    "# Functions\n",
    "---\n",
    "\n",
    "Similar to the way we can use `for` loops as a means of performing repetitive tasks on a series of objects, we can also create functions to perform repetitive tasks. Within a function, we can write a large block of action and then call the function whenever we want to use it.  \n",
    "\n",
    "\n",
    "Let's make some pseudocode:\n",
    "```python\n",
    "# Define the function name and the requirements it needs.\n",
    "    # Perform actions.\n",
    "    # Optional: Return output.\n",
    "```\n",
    "\n",
    "Let's create a function that takes two numbers as arguments and returns their sum, difference, and product. "
   ]
  },
  {
   "cell_type": "code",
   "execution_count": 26,
   "metadata": {},
   "outputs": [
    {
     "name": "stdout",
     "output_type": "stream",
     "text": [
      "8\n",
      "-2\n",
      "15\n"
     ]
    }
   ],
   "source": [
    "def arithmetic(num1, num2):\n",
    "    print(num1 + num2)\n",
    "    print(num1 - num2)\n",
    "    print(num1 * num2)\n",
    "    \n",
    "arithmetic(3,5)"
   ]
  },
  {
   "cell_type": "markdown",
   "metadata": {},
   "source": [
    "Once we define the function, it will exist until we reset our kernel, close our notebook, or overwrite it."
   ]
  },
  {
   "cell_type": "code",
   "execution_count": 27,
   "metadata": {},
   "outputs": [
    {
     "name": "stdout",
     "output_type": "stream",
     "text": [
      "14\n",
      "-6\n",
      "40\n"
     ]
    }
   ],
   "source": [
    "arithmetic(4,10)"
   ]
  },
  {
   "cell_type": "markdown",
   "metadata": {},
   "source": [
    "### 9) Write a function that takes a word as an argument and returns the number of vowels in the word.\n",
    "\n",
    "Try it out on three words."
   ]
  },
  {
   "cell_type": "code",
   "execution_count": 28,
   "metadata": {},
   "outputs": [],
   "source": [
    "def vowel_counter(word):\n",
    "    vowels = 'aeiou'\n",
    "    vowel_count = 0\n",
    "    \n",
    "    for char in word:\n",
    "        if char in vowels:\n",
    "            vowel_count += 1\n",
    "            \n",
    "    return vowel_count"
   ]
  },
  {
   "cell_type": "code",
   "execution_count": 29,
   "metadata": {},
   "outputs": [
    {
     "data": {
      "text/plain": [
       "2"
      ]
     },
     "execution_count": 29,
     "metadata": {},
     "output_type": "execute_result"
    }
   ],
   "source": [
    "vowel_counter('book')"
   ]
  },
  {
   "cell_type": "code",
   "execution_count": 30,
   "metadata": {},
   "outputs": [
    {
     "name": "stdout",
     "output_type": "stream",
     "text": [
      "T\n",
      "h\n",
      "i\n",
      "s\n",
      " \n",
      "i\n",
      "s\n",
      " \n",
      "a\n",
      " \n",
      "s\n",
      "e\n",
      "n\n",
      "t\n",
      "e\n",
      "n\n",
      "c\n",
      "e\n"
     ]
    }
   ],
   "source": [
    "word = \"This is a sentence\"\n",
    "\n",
    "for char in word:\n",
    "    print(char)"
   ]
  },
  {
   "cell_type": "markdown",
   "metadata": {},
   "source": [
    "---\n",
    "\n",
    "### 10) Write a function to calculate the area of a triangle using a height and width.\n",
    "\n",
    "Test it out."
   ]
  },
  {
   "cell_type": "code",
   "execution_count": 31,
   "metadata": {},
   "outputs": [],
   "source": [
    "def triangle_area(width, height):\n",
    "    return 0.5 * width * height"
   ]
  },
  {
   "cell_type": "code",
   "execution_count": 32,
   "metadata": {},
   "outputs": [
    {
     "data": {
      "text/plain": [
       "17.5"
      ]
     },
     "execution_count": 32,
     "metadata": {},
     "output_type": "execute_result"
    }
   ],
   "source": [
    "triangle_area(5,7)"
   ]
  },
  {
   "cell_type": "markdown",
   "metadata": {},
   "source": [
    "---\n",
    "<a id='while_loops'></a>\n",
    "# `while` Loops\n",
    "---\n",
    "\n",
    "\n",
    "`while` loops are a different means of performing repetitive tasks/iteration. The function of a `for` loop is to perform tasks over a _finite list_. The function of a `while` loop is to perform a repetitive task until a _specific threshold or criteria point is met_. Keep in mind that this can be relatively dangerous, as it is easy to create a loop that never meets your criteria and runs forever.\n",
    "\n",
    "_We say \"list,\" but we're not just talking about a Python list data type. We're including any data type where information can be iterated through._\n",
    "\n",
    "Let's look at some pseudocode:\n",
    "\n",
    "```python\n",
    "# A threshold or criteria point is set.\n",
    "    # As long as the threshold or criteria point isn't met,\n",
    "    # perform a task.\n",
    "    # Check threshold/criteria point.\n",
    "        # If threshold/criteria point is met or exceeded,\n",
    "            # break loop.\n",
    "        # If not, repeat.\n",
    "    \n",
    "```\n",
    "\n",
    "An example of an infinite `while` loop:\n",
    "\n",
    "```python\n",
    "x = 0\n",
    "while x < 10:\n",
    "    print x\n",
    "```\n",
    "\n",
    "Because the value assigned to `x` never changes and always remains less than 10, this loop will print \"`x`\" infinitely until you force-kill the kernel. \n",
    "\n",
    "We can fix this infinity loop by including a incrementation for `x` within it.\n",
    "\n",
    "```python\n",
    "x = 0\n",
    "while x < 10:\n",
    "    print x\n",
    "    x = x+1\n",
    "```\n",
    "\n"
   ]
  },
  {
   "cell_type": "markdown",
   "metadata": {},
   "source": [
    "### 11) Use `while` loops and strings.\n",
    "\n",
    "Iterate over the following sentence repeatedly, counting the number of vowels in the sentence until you have tallied one million. Print out the number of iterations it took to reach that amount."
   ]
  },
  {
   "cell_type": "code",
   "execution_count": 33,
   "metadata": {},
   "outputs": [],
   "source": [
    "sentence = \"A MAN KNOCKED ON MY DOOR AND ASKED FOR A SMALL DONATION TOWARDS THE LOCAL SWIMMING POOL SO I GAVE HIM A GLASS OF WATER\""
   ]
  },
  {
   "cell_type": "code",
   "execution_count": 34,
   "metadata": {},
   "outputs": [
    {
     "name": "stdout",
     "output_type": "stream",
     "text": [
      "iterations: 27778\n",
      "vowels: 1000008\n"
     ]
    }
   ],
   "source": [
    "iterations = 0\n",
    "vowels = 0\n",
    "\n",
    "while True:\n",
    "    iterations += 1\n",
    "    for char in sentence:\n",
    "        if char in 'AEIOU':\n",
    "            vowels += 1\n",
    "    \n",
    "    if vowels >= 1000000:\n",
    "        break\n",
    "\n",
    "print('iterations: {}'.format(iterations))\n",
    "print('vowels: {}'.format(vowels))"
   ]
  },
  {
   "cell_type": "markdown",
   "metadata": {},
   "source": [
    "---\n",
    "\n",
    "### 12) Try to convert elements in a list to floats.\n",
    "\n",
    "Create a new list with the converted numbers. If something cannot be converted, skip it and append nothing to the new list.\n",
    "\n",
    "_Hint: Use error-handling methods._"
   ]
  },
  {
   "cell_type": "code",
   "execution_count": 35,
   "metadata": {},
   "outputs": [],
   "source": [
    "corrupted = ['!1', '23.1', '23.4.5', '??12', '.12', '12-12', '-11.1', '0-1', '*12.1', '1000']"
   ]
  },
  {
   "cell_type": "code",
   "execution_count": 36,
   "metadata": {},
   "outputs": [
    {
     "name": "stdout",
     "output_type": "stream",
     "text": [
      "[23.1, 0.12, -11.1, 1000.0]\n"
     ]
    }
   ],
   "source": [
    "cleaned = []\n",
    "for item in corrupted:\n",
    "    try:\n",
    "        cleaned.append(float(item))\n",
    "    except:\n",
    "        pass\n",
    "\n",
    "print(cleaned)"
   ]
  },
  {
   "cell_type": "markdown",
   "metadata": {},
   "source": [
    "---\n",
    "<a id='coffee_preference'></a>\n",
    "\n",
    "# Practice Control Flow on the Coffee Preference Data Set\n",
    "\n",
    "### 1) Load Coffee Preference data from file and print.\n",
    "\n",
    "The code to load in the data is provided below. \n",
    "\n",
    "The `with open(..., 'r') as f:` opens up a file in \"read\" mode (rather than \"write\") and assigns this opened file to `f`. \n",
    "\n",
    "We can then use the built-in `.readlines()` function to split the CSV file on newlines and assign it to the variable `lines`."
   ]
  },
  {
   "cell_type": "code",
   "execution_count": 37,
   "metadata": {},
   "outputs": [],
   "source": [
    "# You threw the students a curveball here, they will have a defunct link\n",
    "with open('../data/coffee-preferences.csv','r') as f:\n",
    "    lines = f.readlines()"
   ]
  },
  {
   "cell_type": "markdown",
   "metadata": {},
   "source": [
    "#### Iterate through `lines` and print them out."
   ]
  },
  {
   "cell_type": "code",
   "execution_count": 38,
   "metadata": {},
   "outputs": [
    {
     "name": "stdout",
     "output_type": "stream",
     "text": [
      "Timestamp,Name,Starbucks,PhilzCoffee,BlueBottleCoffee,PeetsTea,CaffeTrieste,GrandCoffee,RitualCoffee,FourBarrel,WorkshopCafe\n",
      "\n",
      "3/17/2015 18:37:58,Alison,3,5,4,3,,,5,5,\n",
      "\n",
      "3/17/2015 18:38:09,April,4,5,5,3,,,3,,5\n",
      "\n",
      "3/17/2015 18:38:25,Vijay,3,5,5,5,3,2,1,1,1\n",
      "\n",
      "3/17/2015 18:38:28,Vanessa,1,5,5,2,,,3,2,3\n",
      "\n",
      "3/17/2015 18:38:46,Isabel,1,4,4,2,4,,4,4,\n",
      "\n",
      "3/17/2015 18:39:01,India,5,3,3,3,3,1,,,3\n",
      "\n",
      "3/17/2015 18:39:01,Dave H,4,5,,5,,,,,\n",
      "\n",
      "3/17/2015 18:39:05,Deepthi,3,5,,2,,,,,2\n",
      "\n",
      "3/17/2015 18:39:14,Ramesh,3,4,,3,,,,,4\n",
      "\n",
      "3/17/2015 18:39:23,Hugh,1,5,5,4,5,2,5,4,1\n",
      "\n",
      "3/17/2015 18:39:23,Alex,4,5,,3,,,,,\n",
      "\n",
      "3/17/2015 18:39:30,Ajay Anand,3,4,4,3,5,,,,\n",
      "\n",
      "3/17/2015 18:39:35,David Feng,2,3,4,2,2,,5,4,3\n",
      "\n",
      "3/17/2015 18:39:42,Zach,3,4,4,3,,,,,5\n",
      "\n",
      "3/17/2015 18:40:44,Matt,3,5,4,3,2,2,4,3,2\n",
      "\n",
      "3/17/2015 18:40:49,Markus,3,5,,3,,,4,,\n",
      "\n",
      "3/17/2015 18:41:18,Otto,4,2,2,5,,,3,3,3\n",
      "\n",
      "3/17/2015 18:41:23,Alessandro,1,5,3,2,,,4,3,\n",
      "\n",
      "3/17/2015 18:41:35,Rocky,3,5,4,3,3,3,4,4,3\n",
      "\n",
      "3/17/2015 18:42:01,Cheong-tseng,3,1,,,,,4,,\n"
     ]
    }
   ],
   "source": [
    "for line in lines:\n",
    "    print(line)"
   ]
  },
  {
   "cell_type": "markdown",
   "metadata": {},
   "source": [
    "#### Print out just the `lines` object by typing \"lines\" in a cell and hitting `enter`."
   ]
  },
  {
   "cell_type": "code",
   "execution_count": 39,
   "metadata": {},
   "outputs": [
    {
     "data": {
      "text/plain": [
       "['Timestamp,Name,Starbucks,PhilzCoffee,BlueBottleCoffee,PeetsTea,CaffeTrieste,GrandCoffee,RitualCoffee,FourBarrel,WorkshopCafe\\n',\n",
       " '3/17/2015 18:37:58,Alison,3,5,4,3,,,5,5,\\n',\n",
       " '3/17/2015 18:38:09,April,4,5,5,3,,,3,,5\\n',\n",
       " '3/17/2015 18:38:25,Vijay,3,5,5,5,3,2,1,1,1\\n',\n",
       " '3/17/2015 18:38:28,Vanessa,1,5,5,2,,,3,2,3\\n',\n",
       " '3/17/2015 18:38:46,Isabel,1,4,4,2,4,,4,4,\\n',\n",
       " '3/17/2015 18:39:01,India,5,3,3,3,3,1,,,3\\n',\n",
       " '3/17/2015 18:39:01,Dave H,4,5,,5,,,,,\\n',\n",
       " '3/17/2015 18:39:05,Deepthi,3,5,,2,,,,,2\\n',\n",
       " '3/17/2015 18:39:14,Ramesh,3,4,,3,,,,,4\\n',\n",
       " '3/17/2015 18:39:23,Hugh,1,5,5,4,5,2,5,4,1\\n',\n",
       " '3/17/2015 18:39:23,Alex,4,5,,3,,,,,\\n',\n",
       " '3/17/2015 18:39:30,Ajay Anand,3,4,4,3,5,,,,\\n',\n",
       " '3/17/2015 18:39:35,David Feng,2,3,4,2,2,,5,4,3\\n',\n",
       " '3/17/2015 18:39:42,Zach,3,4,4,3,,,,,5\\n',\n",
       " '3/17/2015 18:40:44,Matt,3,5,4,3,2,2,4,3,2\\n',\n",
       " '3/17/2015 18:40:49,Markus,3,5,,3,,,4,,\\n',\n",
       " '3/17/2015 18:41:18,Otto,4,2,2,5,,,3,3,3\\n',\n",
       " '3/17/2015 18:41:23,Alessandro,1,5,3,2,,,4,3,\\n',\n",
       " '3/17/2015 18:41:35,Rocky,3,5,4,3,3,3,4,4,3\\n',\n",
       " '3/17/2015 18:42:01,Cheong-tseng,3,1,,,,,4,,']"
      ]
     },
     "execution_count": 39,
     "metadata": {},
     "output_type": "execute_result"
    }
   ],
   "source": [
    "lines"
   ]
  },
  {
   "cell_type": "markdown",
   "metadata": {},
   "source": [
    "---\n",
    "\n",
    "### 2) Remove the remaining newline `'\\n'` characters with a `for` loop.\n",
    "\n",
    "Iterate through the lines of the data and remove the unwanted newline characters.\n",
    "\n",
    "**.replace('\\n', '')** is a built-in string function that will take the substring you want to replace as its first argument and the string you want to replace it with as its second."
   ]
  },
  {
   "cell_type": "code",
   "execution_count": 40,
   "metadata": {},
   "outputs": [
    {
     "data": {
      "text/plain": [
       "['Timestamp,Name,Starbucks,PhilzCoffee,BlueBottleCoffee,PeetsTea,CaffeTrieste,GrandCoffee,RitualCoffee,FourBarrel,WorkshopCafe',\n",
       " '3/17/2015 18:37:58,Alison,3,5,4,3,,,5,5,',\n",
       " '3/17/2015 18:38:09,April,4,5,5,3,,,3,,5',\n",
       " '3/17/2015 18:38:25,Vijay,3,5,5,5,3,2,1,1,1',\n",
       " '3/17/2015 18:38:28,Vanessa,1,5,5,2,,,3,2,3',\n",
       " '3/17/2015 18:38:46,Isabel,1,4,4,2,4,,4,4,',\n",
       " '3/17/2015 18:39:01,India,5,3,3,3,3,1,,,3',\n",
       " '3/17/2015 18:39:01,Dave H,4,5,,5,,,,,',\n",
       " '3/17/2015 18:39:05,Deepthi,3,5,,2,,,,,2',\n",
       " '3/17/2015 18:39:14,Ramesh,3,4,,3,,,,,4',\n",
       " '3/17/2015 18:39:23,Hugh,1,5,5,4,5,2,5,4,1',\n",
       " '3/17/2015 18:39:23,Alex,4,5,,3,,,,,',\n",
       " '3/17/2015 18:39:30,Ajay Anand,3,4,4,3,5,,,,',\n",
       " '3/17/2015 18:39:35,David Feng,2,3,4,2,2,,5,4,3',\n",
       " '3/17/2015 18:39:42,Zach,3,4,4,3,,,,,5',\n",
       " '3/17/2015 18:40:44,Matt,3,5,4,3,2,2,4,3,2',\n",
       " '3/17/2015 18:40:49,Markus,3,5,,3,,,4,,',\n",
       " '3/17/2015 18:41:18,Otto,4,2,2,5,,,3,3,3',\n",
       " '3/17/2015 18:41:23,Alessandro,1,5,3,2,,,4,3,',\n",
       " '3/17/2015 18:41:35,Rocky,3,5,4,3,3,3,4,4,3',\n",
       " '3/17/2015 18:42:01,Cheong-tseng,3,1,,,,,4,,']"
      ]
     },
     "execution_count": 40,
     "metadata": {},
     "output_type": "execute_result"
    }
   ],
   "source": [
    "cleaned_lines = []\n",
    "for l in lines:\n",
    "    cleaned_lines.append(l.replace('\\n',''))\n",
    "\n",
    "cleaned_lines"
   ]
  },
  {
   "cell_type": "markdown",
   "metadata": {},
   "source": [
    "---\n",
    "\n",
    "### 3) Split the lines into \"header\" and \"data\" variables.\n",
    "\n",
    "The header is the first string in the list of strings. It contains our data's column names."
   ]
  },
  {
   "cell_type": "code",
   "execution_count": 41,
   "metadata": {},
   "outputs": [],
   "source": [
    "header = cleaned_lines[0]\n",
    "data = cleaned_lines[1:]"
   ]
  },
  {
   "cell_type": "markdown",
   "metadata": {},
   "source": [
    "---\n",
    "\n",
    "### 4) Split the header and data strings on commas.\n",
    "\n",
    "To split a string on the comma character, use the built-in **`.split(',')`** function. \n",
    "\n",
    "Split the header on commas, then print it. You can see that the original string is now a list containing items that were originally separated by commas."
   ]
  },
  {
   "cell_type": "code",
   "execution_count": 42,
   "metadata": {},
   "outputs": [
    {
     "name": "stdout",
     "output_type": "stream",
     "text": [
      "['Timestamp', 'Name', 'Starbucks', 'PhilzCoffee', 'BlueBottleCoffee', 'PeetsTea', 'CaffeTrieste', 'GrandCoffee', 'RitualCoffee', 'FourBarrel', 'WorkshopCafe']\n"
     ]
    }
   ],
   "source": [
    "# Split on commas:\n",
    "header = header.split(',')\n",
    "print(header)\n",
    "\n",
    "split_data = []\n",
    "for d in data:\n",
    "    split_data.append(d.split(','))"
   ]
  },
  {
   "cell_type": "markdown",
   "metadata": {},
   "source": [
    "---\n",
    "\n",
    "### 5) Remove the \"Timestamp\" column.\n",
    "\n",
    "We aren't interested in the \"Timestamp\" column in our data, so remove it from the header and data list.\n",
    "\n",
    "Removing \"Timestamp\" from the header can be done with list functions or with slicing. To remove the header column from the data, use a `for` loop.\n",
    "\n",
    "Print out the new data object with the timestamps removed."
   ]
  },
  {
   "cell_type": "code",
   "execution_count": 43,
   "metadata": {},
   "outputs": [
    {
     "data": {
      "text/plain": [
       "[['Alison', '3', '5', '4', '3', '', '', '5', '5', ''],\n",
       " ['April', '4', '5', '5', '3', '', '', '3', '', '5'],\n",
       " ['Vijay', '3', '5', '5', '5', '3', '2', '1', '1', '1'],\n",
       " ['Vanessa', '1', '5', '5', '2', '', '', '3', '2', '3'],\n",
       " ['Isabel', '1', '4', '4', '2', '4', '', '4', '4', ''],\n",
       " ['India', '5', '3', '3', '3', '3', '1', '', '', '3'],\n",
       " ['Dave H', '4', '5', '', '5', '', '', '', '', ''],\n",
       " ['Deepthi', '3', '5', '', '2', '', '', '', '', '2'],\n",
       " ['Ramesh', '3', '4', '', '3', '', '', '', '', '4'],\n",
       " ['Hugh', '1', '5', '5', '4', '5', '2', '5', '4', '1'],\n",
       " ['Alex', '4', '5', '', '3', '', '', '', '', ''],\n",
       " ['Ajay Anand', '3', '4', '4', '3', '5', '', '', '', ''],\n",
       " ['David Feng', '2', '3', '4', '2', '2', '', '5', '4', '3'],\n",
       " ['Zach', '3', '4', '4', '3', '', '', '', '', '5'],\n",
       " ['Matt', '3', '5', '4', '3', '2', '2', '4', '3', '2'],\n",
       " ['Markus', '3', '5', '', '3', '', '', '4', '', ''],\n",
       " ['Otto', '4', '2', '2', '5', '', '', '3', '3', '3'],\n",
       " ['Alessandro', '1', '5', '3', '2', '', '', '4', '3', ''],\n",
       " ['Rocky', '3', '5', '4', '3', '3', '3', '4', '4', '3'],\n",
       " ['Cheong-tseng', '3', '1', '', '', '', '', '4', '', '']]"
      ]
     },
     "execution_count": 43,
     "metadata": {},
     "output_type": "execute_result"
    }
   ],
   "source": [
    "# Remove Timestamp:\n",
    "header = header[1:]\n",
    "\n",
    "data_nots = []\n",
    "for row in split_data:\n",
    "    data_nots.append(row[1:])\n",
    "    \n",
    "data_nots"
   ]
  },
  {
   "cell_type": "markdown",
   "metadata": {},
   "source": [
    "---\n",
    "\n",
    "### 6) Convert numeric columns to floats and empty fields to `None`.\n",
    "\n",
    "Iterate through the data and construct a new data list of lists that contains the numeric ratings converted from strings to floats and the empty fields (which are empty strings, '') replaced with the `None` object.\n",
    "\n",
    "Use a nested `for` loop (a `for` loop within another `for` loop) to get the job done. You will likely need to use `if… else` conditional statements as well.\n",
    "\n",
    "Print out the new data object to make sure you've succeeded."
   ]
  },
  {
   "cell_type": "code",
   "execution_count": 44,
   "metadata": {},
   "outputs": [
    {
     "data": {
      "text/plain": [
       "[['Alison', 3.0, 5.0, 4.0, 3.0, None, None, 5.0, 5.0, None],\n",
       " ['April', 4.0, 5.0, 5.0, 3.0, None, None, 3.0, None, 5.0],\n",
       " ['Vijay', 3.0, 5.0, 5.0, 5.0, 3.0, 2.0, 1.0, 1.0, 1.0],\n",
       " ['Vanessa', 1.0, 5.0, 5.0, 2.0, None, None, 3.0, 2.0, 3.0],\n",
       " ['Isabel', 1.0, 4.0, 4.0, 2.0, 4.0, None, 4.0, 4.0, None],\n",
       " ['India', 5.0, 3.0, 3.0, 3.0, 3.0, 1.0, None, None, 3.0],\n",
       " ['Dave H', 4.0, 5.0, None, 5.0, None, None, None, None, None],\n",
       " ['Deepthi', 3.0, 5.0, None, 2.0, None, None, None, None, 2.0],\n",
       " ['Ramesh', 3.0, 4.0, None, 3.0, None, None, None, None, 4.0],\n",
       " ['Hugh', 1.0, 5.0, 5.0, 4.0, 5.0, 2.0, 5.0, 4.0, 1.0],\n",
       " ['Alex', 4.0, 5.0, None, 3.0, None, None, None, None, None],\n",
       " ['Ajay Anand', 3.0, 4.0, 4.0, 3.0, 5.0, None, None, None, None],\n",
       " ['David Feng', 2.0, 3.0, 4.0, 2.0, 2.0, None, 5.0, 4.0, 3.0],\n",
       " ['Zach', 3.0, 4.0, 4.0, 3.0, None, None, None, None, 5.0],\n",
       " ['Matt', 3.0, 5.0, 4.0, 3.0, 2.0, 2.0, 4.0, 3.0, 2.0],\n",
       " ['Markus', 3.0, 5.0, None, 3.0, None, None, 4.0, None, None],\n",
       " ['Otto', 4.0, 2.0, 2.0, 5.0, None, None, 3.0, 3.0, 3.0],\n",
       " ['Alessandro', 1.0, 5.0, 3.0, 2.0, None, None, 4.0, 3.0, None],\n",
       " ['Rocky', 3.0, 5.0, 4.0, 3.0, 3.0, 3.0, 4.0, 4.0, 3.0],\n",
       " ['Cheong-tseng', 3.0, 1.0, None, None, None, None, 4.0, None, None]]"
      ]
     },
     "execution_count": 44,
     "metadata": {},
     "output_type": "execute_result"
    }
   ],
   "source": [
    "data_num = []\n",
    "for row in data_nots:\n",
    "    new_row = []\n",
    "    for i, col in enumerate(row):\n",
    "        if i == 0:\n",
    "            new_row.append(col)\n",
    "        else:\n",
    "            if col == '':\n",
    "                new_row.append(None)\n",
    "            else:\n",
    "                new_row.append(float(col))\n",
    "    \n",
    "    data_num.append(new_row)\n",
    "    \n",
    "data_num"
   ]
  },
  {
   "cell_type": "markdown",
   "metadata": {},
   "source": [
    "---\n",
    "\n",
    "### 7) Count the `None` values per person and put the counts in a dictionary.\n",
    "\n",
    "Use a `for` loop to count the number of `None` values per person. Create a dictionary with the names of the people as keys and the counts of `None` as values.\n",
    "\n",
    "Who rated the most coffee brands? Who rated the least?"
   ]
  },
  {
   "cell_type": "code",
   "execution_count": 45,
   "metadata": {},
   "outputs": [
    {
     "data": {
      "text/plain": [
       "{'Alison': 3,\n",
       " 'April': 3,\n",
       " 'Vijay': 0,\n",
       " 'Vanessa': 2,\n",
       " 'Isabel': 2,\n",
       " 'India': 2,\n",
       " 'Dave H': 6,\n",
       " 'Deepthi': 5,\n",
       " 'Ramesh': 5,\n",
       " 'Hugh': 0,\n",
       " 'Alex': 6,\n",
       " 'Ajay Anand': 4,\n",
       " 'David Feng': 1,\n",
       " 'Zach': 4,\n",
       " 'Matt': 0,\n",
       " 'Markus': 5,\n",
       " 'Otto': 2,\n",
       " 'Alessandro': 3,\n",
       " 'Rocky': 0,\n",
       " 'Cheong-tseng': 6}"
      ]
     },
     "execution_count": 45,
     "metadata": {},
     "output_type": "execute_result"
    }
   ],
   "source": [
    "user_nones = {}\n",
    "for row in data_num:\n",
    "    nones = 0\n",
    "    for cell in row:\n",
    "        if cell == None:\n",
    "            nones += 1\n",
    "\n",
    "    user_nones[row[0]] = nones\n",
    "    \n",
    "user_nones\n",
    "\n",
    "# Least: Alex, Dave H, cheong-tseng eng\n",
    "# Most: Hugh Jass, Matt, Rocky, Vijay"
   ]
  },
  {
   "cell_type": "markdown",
   "metadata": {},
   "source": [
    "---\n",
    "\n",
    "### 8) Calculate average rating per coffee brand.\n",
    "\n",
    "**Excluding `None` values**, calculate the average rating per brand of coffee.\n",
    "\n",
    "The final output should be a dictionary with the coffee brand names as keys and their average rating as the values.\n",
    "\n",
    "Remember that the average can be calculated as the sum of the ratings over the number of ratings:\n",
    "\n",
    "```python\n",
    "average_rating = float(sum(ratings_list))/len(ratings_list)\n",
    "```\n",
    "\n",
    "Print your dictionary to see the average brand ratings."
   ]
  },
  {
   "cell_type": "code",
   "execution_count": 46,
   "metadata": {},
   "outputs": [
    {
     "name": "stdout",
     "output_type": "stream",
     "text": [
      "Starbucks [3.0, 4.0, 3.0, 1.0, 1.0, 5.0, 4.0, 3.0, 3.0, 1.0, 4.0, 3.0, 2.0, 3.0, 3.0, 3.0, 4.0, 1.0, 3.0, 3.0]\n",
      "PhilzCoffee [5.0, 5.0, 5.0, 5.0, 4.0, 3.0, 5.0, 5.0, 4.0, 5.0, 5.0, 4.0, 3.0, 4.0, 5.0, 5.0, 2.0, 5.0, 5.0, 1.0]\n",
      "BlueBottleCoffee [4.0, 5.0, 5.0, 5.0, 4.0, 3.0, 5.0, 4.0, 4.0, 4.0, 4.0, 2.0, 3.0, 4.0]\n",
      "PeetsTea [3.0, 3.0, 5.0, 2.0, 2.0, 3.0, 5.0, 2.0, 3.0, 4.0, 3.0, 3.0, 2.0, 3.0, 3.0, 3.0, 5.0, 2.0, 3.0]\n",
      "CaffeTrieste [3.0, 4.0, 3.0, 5.0, 5.0, 2.0, 2.0, 3.0]\n",
      "GrandCoffee [2.0, 1.0, 2.0, 2.0, 3.0]\n",
      "RitualCoffee [5.0, 3.0, 1.0, 3.0, 4.0, 5.0, 5.0, 4.0, 4.0, 3.0, 4.0, 4.0, 4.0]\n",
      "FourBarrel [5.0, 1.0, 2.0, 4.0, 4.0, 4.0, 3.0, 3.0, 3.0, 4.0]\n",
      "WorkshopCafe [5.0, 1.0, 3.0, 3.0, 2.0, 4.0, 1.0, 3.0, 5.0, 2.0, 3.0, 3.0]\n"
     ]
    },
    {
     "data": {
      "text/plain": [
       "{'Starbucks': 2.85,\n",
       " 'PhilzCoffee': 4.25,\n",
       " 'BlueBottleCoffee': 4.0,\n",
       " 'PeetsTea': 3.1052631578947367,\n",
       " 'CaffeTrieste': 3.375,\n",
       " 'GrandCoffee': 2.0,\n",
       " 'RitualCoffee': 3.769230769230769,\n",
       " 'FourBarrel': 3.3,\n",
       " 'WorkshopCafe': 2.9166666666666665}"
      ]
     },
     "execution_count": 46,
     "metadata": {},
     "output_type": "execute_result"
    }
   ],
   "source": [
    "brand_ratings = {}\n",
    "for brand in header[1:]:\n",
    "    brand_ratings[brand] = []\n",
    "\n",
    "for row in data_num:\n",
    "    for i, cell in enumerate(row):\n",
    "        if i > 0 and not cell == None:\n",
    "            brand_ratings[header[i]].append(cell)\n",
    "\n",
    "brand_avg_ratings = {}\n",
    "for brand, ratings in brand_ratings.items():\n",
    "    print('{} {}'.format(brand, ratings))\n",
    "    brand_avg_ratings[brand] = float(sum(ratings))/len(ratings)\n",
    "    \n",
    "brand_avg_ratings"
   ]
  },
  {
   "cell_type": "markdown",
   "metadata": {},
   "source": [
    "---\n",
    "\n",
    "### 9) Create a list containing only the people's names."
   ]
  },
  {
   "cell_type": "code",
   "execution_count": 47,
   "metadata": {},
   "outputs": [
    {
     "name": "stdout",
     "output_type": "stream",
     "text": [
      "20\n"
     ]
    },
    {
     "data": {
      "text/plain": [
       "['Alison',\n",
       " 'April',\n",
       " 'Vijay',\n",
       " 'Vanessa',\n",
       " 'Isabel',\n",
       " 'India',\n",
       " 'Dave H',\n",
       " 'Deepthi',\n",
       " 'Ramesh',\n",
       " 'Hugh',\n",
       " 'Alex',\n",
       " 'Ajay Anand',\n",
       " 'David Feng',\n",
       " 'Zach',\n",
       " 'Matt',\n",
       " 'Markus',\n",
       " 'Otto',\n",
       " 'Alessandro',\n",
       " 'Rocky',\n",
       " 'Cheong-tseng']"
      ]
     },
     "execution_count": 47,
     "metadata": {},
     "output_type": "execute_result"
    }
   ],
   "source": [
    "people = []\n",
    "for row in data_num:\n",
    "    people.append(row[0])\n",
    "    \n",
    "print(len(people))\n",
    "people"
   ]
  },
  {
   "cell_type": "markdown",
   "metadata": {},
   "source": [
    "---\n",
    "\n",
    "### 11) Picking a name at random. What are the odds of choosing the same name three times in a row?\n",
    "\n",
    "Now, we'll use a `while` loop to \"brute force\" the odds of choosing the same name three times in a row randomly from the list of names.\n",
    "\n",
    "\"Brute force\" is a term used quite frequently in programming to refer to a computationally inefficient way of solving a problem. It's brute force in this situation because we can use statistics to solve this much more efficiently than if we actually played out an entire scenario.\n",
    "\n",
    "Below, we've imported the **`random`** package, which has the essential function for this code: **`random.choice()`**.\n",
    "The function takes a list as an argument and returns one of the elements of that list at random."
   ]
  },
  {
   "cell_type": "code",
   "execution_count": 48,
   "metadata": {},
   "outputs": [],
   "source": [
    "import random\n",
    "# Choose a random person from the list of people:\n",
    "# random.choice(people)"
   ]
  },
  {
   "cell_type": "markdown",
   "metadata": {},
   "source": [
    "Write a function to choose a person from the list randomly three times and check if they are all the same.\n",
    "\n",
    "Define a function that has the following properties:\n",
    "\n",
    "1) Takes a list (your list of names) as an argument.\n",
    "2) Selects a name using `random.choice(people)` three separate times.\n",
    "3) Returns `True` if the name was the same all three times; otherwise returns `False`."
   ]
  },
  {
   "cell_type": "code",
   "execution_count": 49,
   "metadata": {},
   "outputs": [],
   "source": [
    "def choose_three(sequence):\n",
    "    person1 = random.choice(people)\n",
    "    person2 = random.choice(people)\n",
    "    person3 = random.choice(people)\n",
    "    \n",
    "    if person1 == person2 == person3:\n",
    "        return True\n",
    "    else:\n",
    "        return False"
   ]
  },
  {
   "cell_type": "markdown",
   "metadata": {},
   "source": [
    "---\n",
    "\n",
    "### 12) Construct a `while` loop to run the choosing function until it returns `True`.\n",
    "\n",
    "Run the function until you draw the same person three times using a `while` loop. Keep track of how many tries it took and print out the number of tries after it runs."
   ]
  },
  {
   "cell_type": "code",
   "execution_count": 50,
   "metadata": {},
   "outputs": [
    {
     "data": {
      "text/plain": [
       "679"
      ]
     },
     "execution_count": 50,
     "metadata": {},
     "output_type": "execute_result"
    }
   ],
   "source": [
    "tries = 0\n",
    "chose_same_person = False\n",
    "\n",
    "while not chose_same_person:\n",
    "    tries += 1\n",
    "    \n",
    "    same_person = choose_three(people)\n",
    "    if same_person:\n",
    "        chose_same_person = True\n",
    "\n",
    "tries"
   ]
  },
  {
   "cell_type": "markdown",
   "metadata": {
    "collapsed": true
   },
   "source": [
    "\n",
    "<a name=\"conclusion\"></a>\n",
    "## Lesson Summary\n",
    "\n",
    "\n",
    "Let's review what we learned today. We:\n",
    "\n",
    "- Reviewed `Python` control flow and conditional programming. \n",
    "- Implemented `for` and `while` loops to iterate through data structures.\n",
    "- Applied `if… else` conditional statements.\n",
    "- Created functions to perform repetitive actions.\n",
    "- Demonstrated error handling using `try, except` statements.\n",
    "- Combined control flow and conditional statements to solve the classic \"FizzBuzz\" code challenge.\n",
    "- Used `Python` control flow and functions to help us parse, clean, edit, and analyze the Coffee Preferences data set.\n",
    "\n",
    "\n",
    "\n",
    "### Additional Questions?\n",
    "\n",
    "\n",
    "....\n",
    "\n",
    "### Additional Resources\n",
    "\n",
    "- [Learn Python on Codecademy](https://www.codecademy.com/learn/python)\n",
    "- [Learn Python the Hard Way](https://learnpythonthehardway.org)\n",
    "- [Python Data Types and Variables](http://www.python-course.eu/variables.php)\n",
    "- [Python IF… ELIF… ELSE Statements](https://www.tutorialspoint.com/python/python_if_else.htm)\n",
    "- [Python Loops](https://www.tutorialspoint.com/python/python_loops.htm)\n",
    "- [Python Control Flow](https://python.swaroopch.com/control_flow.html)"
   ]
  },
  {
   "cell_type": "code",
   "execution_count": null,
   "metadata": {},
   "outputs": [],
   "source": []
  }
 ],
 "metadata": {
  "anaconda-cloud": {},
  "kernelspec": {
   "display_name": "Python 3",
   "language": "python",
   "name": "python3"
  },
  "language_info": {
   "codemirror_mode": {
    "name": "ipython",
    "version": 3
   },
   "file_extension": ".py",
   "mimetype": "text/x-python",
   "name": "python",
   "nbconvert_exporter": "python",
   "pygments_lexer": "ipython3",
   "version": "3.7.3"
  }
 },
 "nbformat": 4,
 "nbformat_minor": 1
}
